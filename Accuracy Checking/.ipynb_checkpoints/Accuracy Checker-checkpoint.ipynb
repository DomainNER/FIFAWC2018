{
 "cells": [
  {
   "cell_type": "markdown",
   "metadata": {},
   "source": [
    "# Script to check for accuracy of any csv files with space seperated NERs."
   ]
  },
  {
   "cell_type": "code",
   "execution_count": null,
   "metadata": {},
   "outputs": [],
   "source": [
    "from csv import reader\n",
    "from csv import writer"
   ]
  },
  {
   "cell_type": "code",
   "execution_count": null,
   "metadata": {},
   "outputs": [],
   "source": [
    "s = 'nltkapp.csv'\n",
    "#s can be any csv file with the appropriate format. One column of index, second column having space seperated NERs.\n",
    "flag = True\n",
    "totalwords = 0\n",
    "total = [[] for i in range(550000)]\n",
    "with open(s,'r') as readobj:\n",
    "        csvread = reader(readobj)\n",
    "        for row in csvread:\n",
    "            if flag:\n",
    "                flag = False\n",
    "                continue\n",
    "            sent = int(row[0])\n",
    "            total[sent] = row[1].split()\n",
    "            for tote in range(len(total[sent])):\n",
    "                totalwords+=len(total[sent])\n",
    "                total[sent][tote] = total[sent][tote].lower()"
   ]
  },
  {
   "cell_type": "code",
   "execution_count": null,
   "metadata": {},
   "outputs": [],
   "source": [
    "s = 'dataset.csv'\n",
    "nertags = [[] for i in range(550000)]\n",
    "expsent = 1\n",
    "valid, totalwords = 0,0\n",
    "validtags = ['BEG-PLAY','INS-PLAY','BEG-TEAM','INS-TEAM']\n",
    "with open(s,'r') as readobj:\n",
    "        csvread = reader(readobj)\n",
    "        for row in csvread:\n",
    "            if row[4] in validtags:\n",
    "                ind = int(row[1])\n",
    "                nertags[ind].append(row[2].lower())\n",
    "                totalwords+=1\n"
   ]
  },
  {
   "cell_type": "code",
   "execution_count": null,
   "metadata": {},
   "outputs": [],
   "source": [
    "i = 0\n",
    "ans = []\n",
    "valid = 0\n",
    "for nertag in nertags:\n",
    "    a_set = set(nertag)\n",
    "    b_set = set(total[i])\n",
    "    valid += len(a_set & b_set)\n",
    "    i+=1\n",
    "    "
   ]
  },
  {
   "cell_type": "code",
   "execution_count": null,
   "metadata": {},
   "outputs": [],
   "source": [
    "print(valid)\n",
    "print(totalwords)\n",
    "print(valid*100/totalwords)"
   ]
  }
 ],
 "metadata": {
  "kernelspec": {
   "display_name": "Python 3",
   "language": "python",
   "name": "python3"
  },
  "language_info": {
   "codemirror_mode": {
    "name": "ipython",
    "version": 3
   },
   "file_extension": ".py",
   "mimetype": "text/x-python",
   "name": "python",
   "nbconvert_exporter": "python",
   "pygments_lexer": "ipython3",
   "version": "3.8.2"
  }
 },
 "nbformat": 4,
 "nbformat_minor": 4
}
