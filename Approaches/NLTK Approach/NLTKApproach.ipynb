{
 "cells": [
  {
   "cell_type": "code",
   "execution_count": 53,
   "metadata": {},
   "outputs": [],
   "source": [
    "import pandas as pd"
   ]
  },
  {
   "cell_type": "code",
   "execution_count": 38,
   "metadata": {},
   "outputs": [],
   "source": [
    "import nltk\n",
    "from csv import reader\n",
    "from csv import writer\n",
    "s = 'FIFA.csv'\n",
    "ner = []\n",
    "flag= True\n",
    "with open(s,'r') as readobj:\n",
    "        csvread = reader(readobj)\n",
    "        for row in csvread:\n",
    "            if flag:\n",
    "                flag = False\n",
    "                continue\n",
    "            temp = ''\n",
    "            line = row[6]\n",
    "            tokens = nltk.word_tokenize(str(line))\n",
    "            tagged = nltk.pos_tag(tokens)\n",
    "            entities = nltk.chunk.ne_chunk(tagged)\n",
    "            for i in entities:\n",
    "                if len(i)!=2:\n",
    "                    i = str(i).split()\n",
    "                    j = i[1][:-5]\n",
    "                    temp+=j+' '\n",
    "            ner.append(temp)\n"
   ]
  },
  {
   "cell_type": "code",
   "execution_count": 46,
   "metadata": {},
   "outputs": [],
   "source": [
    "seriallist  = [i for i in range(1,530001)]"
   ]
  },
  {
   "cell_type": "code",
   "execution_count": 54,
   "metadata": {},
   "outputs": [],
   "source": [
    "data = {'Serial Number':seriallist,\n",
    "        'NER':ner}"
   ]
  },
  {
   "cell_type": "code",
   "execution_count": 55,
   "metadata": {},
   "outputs": [],
   "source": [
    "df = pd.DataFrame(data)\n",
    "df.to_csv(r'nltkapp.csv', index = False, header=True)"
   ]
  },
  {
   "cell_type": "code",
   "execution_count": null,
   "metadata": {},
   "outputs": [],
   "source": []
  }
 ],
 "metadata": {
  "kernelspec": {
   "display_name": "Python 3",
   "language": "python",
   "name": "python3"
  },
  "language_info": {
   "codemirror_mode": {
    "name": "ipython",
    "version": 3
   },
   "file_extension": ".py",
   "mimetype": "text/x-python",
   "name": "python",
   "nbconvert_exporter": "python",
   "pygments_lexer": "ipython3",
   "version": "3.8.2"
  }
 },
 "nbformat": 4,
 "nbformat_minor": 4
}
