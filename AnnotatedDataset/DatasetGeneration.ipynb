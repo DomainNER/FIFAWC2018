{
 "cells": [
  {
   "cell_type": "markdown",
   "metadata": {},
   "source": [
    "<h1> This file annotates NERs in tweets using a dataset of names and teams. </h1>"
   ]
  },
  {
   "cell_type": "code",
   "execution_count": 2,
   "metadata": {},
   "outputs": [],
   "source": [
    "from nltk.tokenize import sent_tokenize\n",
    "from nltk.tokenize import word_tokenize\n",
    "from nltk.tag import pos_tag\n",
    "from csv import reader\n",
    "from csv import writer\n",
    "import pandas as pd"
   ]
  },
  {
   "cell_type": "code",
   "execution_count": 3,
   "metadata": {},
   "outputs": [],
   "source": [
    "def binarySearch(arr, l, r, x): \n",
    "    x = x.lower()\n",
    "    while l <= r: \n",
    "        mid = l + (r - l)//2; \n",
    "        if arr[mid] == x: \n",
    "            return True \n",
    "        elif arr[mid] < x: \n",
    "            l = mid + 1\n",
    "        else: \n",
    "            r = mid - 1\n",
    "    return False"
   ]
  },
  {
   "cell_type": "code",
   "execution_count": 4,
   "metadata": {},
   "outputs": [],
   "source": [
    "inittagsteam = []\n",
    "inittagsplayer = []"
   ]
  },
  {
   "cell_type": "markdown",
   "metadata": {},
   "source": [
    "<h3> This function takes in a csv file and a list and converts all elements to a list </h3>"
   ]
  },
  {
   "cell_type": "code",
   "execution_count": 5,
   "metadata": {},
   "outputs": [],
   "source": [
    "def readTags(s,inittags):\n",
    "    with open(s,'r') as readobj:\n",
    "        csvread = reader(readobj)\n",
    "        for row in csvread:\n",
    "            for el in row:\n",
    "                inittags.append(el)\n"
   ]
  },
  {
   "cell_type": "code",
   "execution_count": 6,
   "metadata": {},
   "outputs": [],
   "source": [
    "readTags('nation.csv',inittagsteam)\n",
    "readTags('clubs.csv',inittagsteam)\n",
    "readTags('popnames.csv',inittagsplayer)\n",
    "readTags('playername.csv',inittagsplayer)\n",
    "readTags('shirtname.csv',inittagsplayer)\n",
    "notflattagteam = []\n",
    "notflattagplayer = []\n",
    "for tag in inittagsteam:\n",
    "    tagspace = tag.split()\n",
    "    notflattagteam.append(tagspace)\n",
    "for tag in inittagsplayer:\n",
    "    tagspace = tag.split()\n",
    "    notflattagplayer.append(tagspace)"
   ]
  },
  {
   "cell_type": "markdown",
   "metadata": {},
   "source": [
    "<h3> Here we remove all NERs below 3 letters, and convert all to lower case. Two final lists are playertags and teamtags </h3>"
   ]
  },
  {
   "cell_type": "code",
   "execution_count": 7,
   "metadata": {},
   "outputs": [],
   "source": [
    "teamtags = []\n",
    "playertags = []\n",
    "for sublist in notflattagteam:\n",
    "    for item in sublist:\n",
    "        if(len(item)<=2):\n",
    "            continue\n",
    "        teamtags.append(item.lower())\n",
    "for sublist in notflattagplayer:\n",
    "    for item in sublist:\n",
    "        if(len(item)<=2):\n",
    "            continue\n",
    "        playertags.append(item.lower())\n",
    "teamtags.sort()\n",
    "playertags.sort()\n",
    "teamtags = list(dict.fromkeys(teamtags) )\n",
    "playertags = list(dict.fromkeys(playertags) )"
   ]
  },
  {
   "cell_type": "code",
   "execution_count": 8,
   "metadata": {},
   "outputs": [],
   "source": [
    "df = pd.read_csv(\"FIFA.csv\", usecols = ['Tweet'])\n",
    "taggedsents = []\n",
    "for sent in df['Tweet']:\n",
    "    sent = word_tokenize(str(sent))\n",
    "    sent = pos_tag(sent)\n",
    "    taggedsents.append(sent)"
   ]
  },
  {
   "cell_type": "markdown",
   "metadata": {},
   "source": [
    "<h2> Here is where we write to csv file. You can't open more than 1mil rows on most csv readers, but it should be fine and have around 4mil rows anyway. <h2>\n"
   ]
  },
  {
   "cell_type": "code",
   "execution_count": 9,
   "metadata": {},
   "outputs": [],
   "source": [
    "seriallist, sentidlist, wordlist, postaglist, nertaglist = [],[],[],[],[]\n",
    "flagteam, flagplayer = False, False\n",
    "serial = 0\n",
    "sentid = 0\n",
    "for sentence in taggedsents:\n",
    "    flagteam, flagplayer = False, False\n",
    "    sentid += 1\n",
    "    for wordtagpair in sentence:\n",
    "        serial += 1\n",
    "        word = wordtagpair[0]\n",
    "        tag = wordtagpair[1]\n",
    "        sentidlist.append(sentid)\n",
    "        seriallist.append(serial)\n",
    "        wordlist.append(word)\n",
    "        postaglist.append(tag)\n",
    "        if binarySearch(playertags,0,len(playertags),word):\n",
    "            if flagplayer == True:\n",
    "                nertaglist.append('INS-PLAY')\n",
    "            else:\n",
    "                nertaglist.append('BEG-PLAY')\n",
    "                flagplayer = True\n",
    "                flagteam = False\n",
    "        elif binarySearch(teamtags,0,len(teamtags),word):\n",
    "            if flagteam == True:\n",
    "                nertaglist.append('INS-TEAM')\n",
    "            else:\n",
    "                nertaglist.append('BEG-TEAM')\n",
    "                flagteam = True\n",
    "                flagplayer = False\n",
    "        else:\n",
    "            nertaglist.append('OUT')\n",
    "            flagteam, flagplayer = False, False\n",
    "data = {'Serial Number':seriallist,\n",
    "        'Sentence ID':sentidlist,\n",
    "        'Word':wordlist,\n",
    "        'POS Tag':postaglist,\n",
    "         'NER Tag':nertaglist}\n",
    "df = pd.DataFrame(data)\n",
    "df.to_csv(r'dataset.csv', index = False, header=True)"
   ]
  }
 ],
 "metadata": {
  "kernelspec": {
   "display_name": "Python 3",
   "language": "python",
   "name": "python3"
  },
  "language_info": {
   "codemirror_mode": {
    "name": "ipython",
    "version": 3
   },
   "file_extension": ".py",
   "mimetype": "text/x-python",
   "name": "python",
   "nbconvert_exporter": "python",
   "pygments_lexer": "ipython3",
   "version": "3.7.3"
  }
 },
 "nbformat": 4,
 "nbformat_minor": 4
}
